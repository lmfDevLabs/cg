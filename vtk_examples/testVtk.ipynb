{
 "cells": [
  {
   "cell_type": "code",
   "execution_count": 1,
   "id": "2f25eefe",
   "metadata": {},
   "outputs": [
    {
     "name": "stdout",
     "output_type": "stream",
     "text": [
      "Collecting vtk\n",
      "  Downloading vtk-9.2.6-cp39-cp39-macosx_10_10_x86_64.whl (64.0 MB)\n",
      "\u001b[2K     \u001b[90m━━━━━━━━━━━━━━━━━━━━━━━━━━━━━━━━━━━━━━━━\u001b[0m \u001b[32m64.0/64.0 MB\u001b[0m \u001b[31m2.1 MB/s\u001b[0m eta \u001b[36m0:00:00\u001b[0m00:01\u001b[0m00:01\u001b[0m\n",
      "\u001b[?25hRequirement already satisfied: matplotlib>=2.0.0 in /Users/carlosalbertotalerojacome/opt/anaconda3/lib/python3.9/site-packages (from vtk) (3.5.2)\n",
      "Requirement already satisfied: fonttools>=4.22.0 in /Users/carlosalbertotalerojacome/opt/anaconda3/lib/python3.9/site-packages (from matplotlib>=2.0.0->vtk) (4.25.0)\n",
      "Requirement already satisfied: numpy>=1.17 in /Users/carlosalbertotalerojacome/opt/anaconda3/lib/python3.9/site-packages (from matplotlib>=2.0.0->vtk) (1.21.5)\n",
      "Requirement already satisfied: packaging>=20.0 in /Users/carlosalbertotalerojacome/opt/anaconda3/lib/python3.9/site-packages (from matplotlib>=2.0.0->vtk) (21.3)\n",
      "Requirement already satisfied: kiwisolver>=1.0.1 in /Users/carlosalbertotalerojacome/opt/anaconda3/lib/python3.9/site-packages (from matplotlib>=2.0.0->vtk) (1.4.2)\n",
      "Requirement already satisfied: pillow>=6.2.0 in /Users/carlosalbertotalerojacome/opt/anaconda3/lib/python3.9/site-packages (from matplotlib>=2.0.0->vtk) (9.2.0)\n",
      "Requirement already satisfied: cycler>=0.10 in /Users/carlosalbertotalerojacome/opt/anaconda3/lib/python3.9/site-packages (from matplotlib>=2.0.0->vtk) (0.11.0)\n",
      "Requirement already satisfied: python-dateutil>=2.7 in /Users/carlosalbertotalerojacome/opt/anaconda3/lib/python3.9/site-packages (from matplotlib>=2.0.0->vtk) (2.8.2)\n",
      "Requirement already satisfied: pyparsing>=2.2.1 in /Users/carlosalbertotalerojacome/opt/anaconda3/lib/python3.9/site-packages (from matplotlib>=2.0.0->vtk) (3.0.9)\n",
      "Requirement already satisfied: six>=1.5 in /Users/carlosalbertotalerojacome/opt/anaconda3/lib/python3.9/site-packages (from python-dateutil>=2.7->matplotlib>=2.0.0->vtk) (1.16.0)\n",
      "Installing collected packages: vtk\n",
      "Successfully installed vtk-9.2.6\n",
      "Note: you may need to restart the kernel to use updated packages.\n"
     ]
    }
   ],
   "source": [
    "%pip install vtk"
   ]
  },
  {
   "cell_type": "code",
   "execution_count": null,
   "id": "fa6b31e5",
   "metadata": {},
   "outputs": [],
   "source": [
    "import vtk\n",
    "\n",
    "def show_cube():\n",
    "    # Crear un cubo\n",
    "    cube = vtk.vtkCubeSource()\n",
    "\n",
    "    # Mapear los datos a través de un filtro de color\n",
    "    mapper = vtk.vtkPolyDataMapper()\n",
    "    mapper.SetInputConnection(cube.GetOutputPort())\n",
    "\n",
    "    # Crear un actor para representar el objeto en la ventana de visualización\n",
    "    actor = vtk.vtkActor()\n",
    "    actor.SetMapper(mapper)\n",
    "\n",
    "    # Crear una ventana de renderizado y un interactor\n",
    "    ren = vtk.vtkRenderer()\n",
    "    ren_win = vtk.vtkRenderWindow()\n",
    "    ren_win.AddRenderer(ren)\n",
    "    iren = vtk.vtkRenderWindowInteractor()\n",
    "    iren.SetRenderWindow(ren_win)\n",
    "\n",
    "    # Añadir el actor a la escena\n",
    "    ren.AddActor(actor)\n",
    "    ren.SetBackground(0.1, 0.1, 0.1)  # Fondo gris oscuro\n",
    "\n",
    "    # Ajustar la vista\n",
    "    ren.ResetCamera()\n",
    "    ren.GetActiveCamera().Azimuth(30)\n",
    "    ren.GetActiveCamera().Elevation(30)\n",
    "\n",
    "    # Iniciar la visualización\n",
    "    ren_win.Render()\n",
    "    iren.Start()\n",
    "\n",
    "show_cube()\n"
   ]
  },
  {
   "cell_type": "code",
   "execution_count": null,
   "id": "ae7504ec",
   "metadata": {},
   "outputs": [],
   "source": []
  }
 ],
 "metadata": {
  "kernelspec": {
   "display_name": "Python 3 (ipykernel)",
   "language": "python",
   "name": "python3"
  },
  "language_info": {
   "codemirror_mode": {
    "name": "ipython",
    "version": 3
   },
   "file_extension": ".py",
   "mimetype": "text/x-python",
   "name": "python",
   "nbconvert_exporter": "python",
   "pygments_lexer": "ipython3",
   "version": "3.9.13"
  }
 },
 "nbformat": 4,
 "nbformat_minor": 5
}
